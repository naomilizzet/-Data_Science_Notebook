{
 "cells": [
  {
   "cell_type": "markdown",
   "id": "f41a940d-8384-47a3-8802-b30100b36d64",
   "metadata": {},
   "source": [
    "# Data Science Tools and Ecosystem"
   ]
  },
  {
   "cell_type": "markdown",
   "id": "61ddbf27-9500-4765-afa0-d4c0f21e534e",
   "metadata": {},
   "source": [
    "In this notebook, the tools and ecosystems of data science are summarized"
   ]
  },
  {
   "cell_type": "markdown",
   "id": "30676f24-82f7-4059-ba39-8ec10f7ecd63",
   "metadata": {},
   "source": [
    "**Objectives**\n",
    "\n",
    "- List popular languages for Data Science.\n",
    "- Enumerate common libraries in Data Science.\n",
    "- Describe development tools for Data Science.\n"
   ]
  },
  {
   "cell_type": "markdown",
   "id": "3a49cafd-45e4-46d5-b1aa-3846f358989b",
   "metadata": {},
   "source": [
    "Some of the popular languages used by data scientists are:\n",
    "\n",
    "1. Python.\n",
    "2. R\n",
    "3. SQL\n",
    "4. Julia\n",
    "5. Scala"
   ]
  },
  {
   "cell_type": "markdown",
   "id": "af3fdac7-dee8-49e0-ac18-5f5e774def27",
   "metadata": {},
   "source": [
    "Some of the libraries commonly used by data scientists include:\n",
    "\n",
    "1. Pandas\n",
    "2. Numpy\n",
    "3. TensorFlow"
   ]
  },
  {
   "cell_type": "markdown",
   "id": "d428df07-f4c4-4bc6-8270-8410c41ad75a",
   "metadata": {},
   "source": [
    "| Data Science Tools |\n",
    "| ------------------ |\n",
    "| 1. Jupyter Notebook|\n",
    "| 2. RStudio         |\n",
    "| 3. Apache Zeppelin |\n"
   ]
  },
  {
   "cell_type": "markdown",
   "id": "adba9c26-31a2-4050-a2d0-d03aea6e2b1d",
   "metadata": {},
   "source": [
    "### Below are some examples of evaluating arithmetic expressions in Python.\n",
    "Suma: 3 + 2 = 7\n",
    "Resta: 10 - 2 = 8\n",
    "Multiplicación: 6 * 7 = 42"
   ]
  },
  {
   "cell_type": "code",
   "execution_count": 4,
   "id": "f36a407f-7e71-4b0a-9871-714edacb978b",
   "metadata": {},
   "outputs": [
    {
     "name": "stdout",
     "output_type": "stream",
     "text": [
      "17\n"
     ]
    }
   ],
   "source": [
    "# This is a simple arithmetic expression to multiply and then add integers.\n",
    "r = (3*4)+5\n",
    "print(r)"
   ]
  },
  {
   "cell_type": "code",
   "execution_count": 5,
   "id": "c618d2b6-5675-484b-ac7f-fa0f76455589",
   "metadata": {},
   "outputs": [
    {
     "name": "stdout",
     "output_type": "stream",
     "text": [
      "3.3333333333333335\n"
     ]
    }
   ],
   "source": [
    "# This will convert 200 minutes to hours by dividing by 60.\n",
    "horas = 200 / 60\n",
    "print(horas)"
   ]
  },
  {
   "cell_type": "markdown",
   "id": "42471123-bf72-4682-bde0-ac0e53f71a97",
   "metadata": {},
   "source": [
    "## Author\n",
    "Lizzet Mendoza"
   ]
  },
  {
   "cell_type": "code",
   "execution_count": null,
   "id": "e497288f-3b0c-443a-9957-3b923273632c",
   "metadata": {},
   "outputs": [],
   "source": []
  }
 ],
 "metadata": {
  "kernelspec": {
   "display_name": "Python 3 (ipykernel)",
   "language": "python",
   "name": "python3"
  },
  "language_info": {
   "codemirror_mode": {
    "name": "ipython",
    "version": 3
   },
   "file_extension": ".py",
   "mimetype": "text/x-python",
   "name": "python",
   "nbconvert_exporter": "python",
   "pygments_lexer": "ipython3",
   "version": "3.12.9"
  }
 },
 "nbformat": 4,
 "nbformat_minor": 5
}
